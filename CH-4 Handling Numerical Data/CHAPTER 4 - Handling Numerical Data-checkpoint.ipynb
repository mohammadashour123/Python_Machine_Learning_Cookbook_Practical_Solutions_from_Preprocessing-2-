{
 "cells": [
  {
   "cell_type": "markdown",
   "id": "c8b0f1c9",
   "metadata": {},
   "source": [
    "# CH 4 -  Handling Numerical Data"
   ]
  },
  {
   "cell_type": "markdown",
   "id": "54fe5ba0",
   "metadata": {},
   "source": [
    "## Introduction"
   ]
  },
  {
   "cell_type": "markdown",
   "id": "d072ae22",
   "metadata": {},
   "source": [
    " In this chapter, we will cover numerous strate‐gies for transforming raw numerical data into features purpose-built for machine learning algorithms"
   ]
  },
  {
   "cell_type": "code",
   "execution_count": null,
   "id": "17f7150e",
   "metadata": {},
   "outputs": [],
   "source": []
  },
  {
   "cell_type": "code",
   "execution_count": null,
   "id": "ce535eca",
   "metadata": {},
   "outputs": [],
   "source": []
  },
  {
   "cell_type": "markdown",
   "id": "86e60b05",
   "metadata": {},
   "source": [
    "## Rescaling a Feature"
   ]
  },
  {
   "cell_type": "markdown",
   "id": "d795b3f2",
   "metadata": {},
   "source": [
    "### Problem\n",
    "You need to rescale the values of a numerical feature to be between two values."
   ]
  },
  {
   "cell_type": "markdown",
   "id": "a8352053",
   "metadata": {},
   "source": [
    "<h3 style =\"color : green\">Solution ? <h3>"
   ]
  },
  {
   "cell_type": "code",
   "execution_count": null,
   "id": "dd2a78c9",
   "metadata": {},
   "outputs": [],
   "source": []
  },
  {
   "cell_type": "code",
   "execution_count": null,
   "id": "d41e2046",
   "metadata": {},
   "outputs": [],
   "source": []
  },
  {
   "cell_type": "code",
   "execution_count": null,
   "id": "39d50ded",
   "metadata": {},
   "outputs": [],
   "source": []
  },
  {
   "cell_type": "code",
   "execution_count": null,
   "id": "170a096d",
   "metadata": {},
   "outputs": [],
   "source": []
  },
  {
   "cell_type": "code",
   "execution_count": null,
   "id": "cc1ef8a3",
   "metadata": {},
   "outputs": [],
   "source": []
  },
  {
   "cell_type": "markdown",
   "id": "d08501be",
   "metadata": {},
   "source": [
    "Rescaling is a common preprocessing task in machine learning. Many of the algo‐\n",
    "rithms described later in this book will assume all features are on the same scale, typi‐\n",
    "cally 0 to 1 or –1 to 1. There are a number of rescaling techniques, but one of the\n",
    "simplest is called min-max scaling. Min-max scaling uses the minimum and maxi‐\n",
    "mum values of a feature to rescale values to within a range. "
   ]
  },
  {
   "cell_type": "markdown",
   "id": "ff616e68",
   "metadata": {},
   "source": [
    "## Standardizing a Feature\n"
   ]
  },
  {
   "cell_type": "markdown",
   "id": "2b37f406",
   "metadata": {},
   "source": [
    "### Problem\n",
    "You want to transform a feature to have a mean of 0 and a standard deviation of 1."
   ]
  },
  {
   "cell_type": "markdown",
   "id": "009409ad",
   "metadata": {},
   "source": [
    "<h3 style =\"color : green\">Solution ? <h3>"
   ]
  },
  {
   "cell_type": "code",
   "execution_count": null,
   "id": "882446ba",
   "metadata": {},
   "outputs": [],
   "source": []
  },
  {
   "cell_type": "code",
   "execution_count": null,
   "id": "e6471905",
   "metadata": {},
   "outputs": [],
   "source": []
  },
  {
   "cell_type": "code",
   "execution_count": null,
   "id": "1463ac69",
   "metadata": {},
   "outputs": [],
   "source": []
  },
  {
   "cell_type": "code",
   "execution_count": null,
   "id": "aec983d2",
   "metadata": {},
   "outputs": [],
   "source": []
  },
  {
   "cell_type": "code",
   "execution_count": null,
   "id": "4aa24f2e",
   "metadata": {},
   "outputs": [],
   "source": []
  },
  {
   "cell_type": "code",
   "execution_count": null,
   "id": "a3298569",
   "metadata": {},
   "outputs": [],
   "source": []
  },
  {
   "cell_type": "code",
   "execution_count": null,
   "id": "38860d71",
   "metadata": {},
   "outputs": [],
   "source": []
  },
  {
   "cell_type": "markdown",
   "id": "2a1a3508",
   "metadata": {},
   "source": [
    "## Transforming Features"
   ]
  },
  {
   "cell_type": "markdown",
   "id": "023579aa",
   "metadata": {},
   "source": [
    "## Problem\n",
    "You want to make a custom transformation to one or more features."
   ]
  },
  {
   "cell_type": "markdown",
   "id": "22aac0ec",
   "metadata": {},
   "source": [
    "<h3 style =\"color : green\">Solution ? <h3>"
   ]
  },
  {
   "cell_type": "code",
   "execution_count": null,
   "id": "9d0f2a8c",
   "metadata": {},
   "outputs": [],
   "source": []
  },
  {
   "cell_type": "code",
   "execution_count": null,
   "id": "3be38504",
   "metadata": {},
   "outputs": [],
   "source": []
  },
  {
   "cell_type": "code",
   "execution_count": null,
   "id": "bc9f3657",
   "metadata": {},
   "outputs": [],
   "source": []
  },
  {
   "cell_type": "code",
   "execution_count": null,
   "id": "702fe7c6",
   "metadata": {},
   "outputs": [],
   "source": []
  },
  {
   "cell_type": "code",
   "execution_count": null,
   "id": "6b535fcb",
   "metadata": {},
   "outputs": [],
   "source": []
  },
  {
   "cell_type": "markdown",
   "id": "ef4fb3f8",
   "metadata": {},
   "source": [
    "It is common to want to make some custom transformations to one or more features.\n",
    "For example, we might want to create a feature that is the natural log of the values of\n",
    "the different feature. We can do this by creating a function and then mapping it to\n",
    "features using either scikit-learn’s FunctionTransformer or pandas’ apply. In the sol‐\n",
    "ution we created a very simple function, add_ten, which added 10 to each input, but\n",
    "there is no reason we could not define a much more complex function"
   ]
  },
  {
   "cell_type": "code",
   "execution_count": null,
   "id": "ade14c57",
   "metadata": {},
   "outputs": [],
   "source": []
  },
  {
   "cell_type": "code",
   "execution_count": null,
   "id": "53dbf4aa",
   "metadata": {},
   "outputs": [],
   "source": []
  },
  {
   "cell_type": "markdown",
   "id": "7691b3f9",
   "metadata": {},
   "source": [
    "## Detecting Outliers\n"
   ]
  },
  {
   "cell_type": "markdown",
   "id": "19dfd029",
   "metadata": {},
   "source": [
    "### Problem\n",
    "You want to identify extreme observations."
   ]
  },
  {
   "cell_type": "markdown",
   "id": "70e52f03",
   "metadata": {},
   "source": [
    "<h3 style =\"color : green\">Solution ? <h3>"
   ]
  },
  {
   "cell_type": "code",
   "execution_count": null,
   "id": "0eeed30c",
   "metadata": {},
   "outputs": [],
   "source": []
  },
  {
   "cell_type": "code",
   "execution_count": null,
   "id": "5d5d9977",
   "metadata": {},
   "outputs": [],
   "source": []
  },
  {
   "cell_type": "code",
   "execution_count": null,
   "id": "7d759bf4",
   "metadata": {},
   "outputs": [],
   "source": []
  },
  {
   "cell_type": "code",
   "execution_count": null,
   "id": "ea0bd0a4",
   "metadata": {},
   "outputs": [],
   "source": []
  },
  {
   "cell_type": "code",
   "execution_count": null,
   "id": "a12208e3",
   "metadata": {},
   "outputs": [],
   "source": []
  },
  {
   "cell_type": "code",
   "execution_count": null,
   "id": "9620a348",
   "metadata": {},
   "outputs": [],
   "source": []
  },
  {
   "cell_type": "markdown",
   "id": "33b15b35",
   "metadata": {},
   "source": [
    "A major limitation of this approach is the need to specify a contamination parame‐\n",
    "ter, which is the proportion of observations that are outliers—a value that we don’t\n",
    "know. Think of contamination as our estimate of the cleanliness of our data. If we\n",
    "expect our data to have few outliers, we can set contamination to something small.\n",
    "However, if we believe that the data is very likely to have outliers, we can set it to a\n",
    "higher value."
   ]
  },
  {
   "cell_type": "code",
   "execution_count": null,
   "id": "78fe6089",
   "metadata": {},
   "outputs": [],
   "source": []
  },
  {
   "cell_type": "code",
   "execution_count": null,
   "id": "610c4708",
   "metadata": {},
   "outputs": [],
   "source": []
  },
  {
   "cell_type": "code",
   "execution_count": null,
   "id": "7fb92236",
   "metadata": {},
   "outputs": [],
   "source": []
  },
  {
   "cell_type": "markdown",
   "id": "effd0696",
   "metadata": {},
   "source": [
    "##  Handling Outliers\n"
   ]
  },
  {
   "cell_type": "markdown",
   "id": "c1c86b96",
   "metadata": {},
   "source": [
    "### Problem\n",
    "You have outliers"
   ]
  },
  {
   "cell_type": "markdown",
   "id": "f01161f6",
   "metadata": {},
   "source": [
    "<h3 style =\"color : green\">Solution ? <h3>"
   ]
  },
  {
   "cell_type": "code",
   "execution_count": null,
   "id": "4491d98c",
   "metadata": {},
   "outputs": [],
   "source": []
  },
  {
   "cell_type": "code",
   "execution_count": null,
   "id": "0ddecdab",
   "metadata": {},
   "outputs": [],
   "source": []
  },
  {
   "cell_type": "code",
   "execution_count": null,
   "id": "2acb6ba5",
   "metadata": {},
   "outputs": [],
   "source": []
  },
  {
   "cell_type": "code",
   "execution_count": null,
   "id": "940f4101",
   "metadata": {},
   "outputs": [],
   "source": []
  },
  {
   "cell_type": "code",
   "execution_count": null,
   "id": "99ba7b1a",
   "metadata": {},
   "outputs": [],
   "source": []
  },
  {
   "cell_type": "code",
   "execution_count": null,
   "id": "0154e962",
   "metadata": {},
   "outputs": [],
   "source": []
  },
  {
   "cell_type": "code",
   "execution_count": null,
   "id": "0a74dacb",
   "metadata": {},
   "outputs": [],
   "source": []
  },
  {
   "cell_type": "code",
   "execution_count": null,
   "id": "8dc1dd98",
   "metadata": {},
   "outputs": [],
   "source": []
  },
  {
   "cell_type": "markdown",
   "id": "0e5b8422",
   "metadata": {},
   "source": [
    "## Discretizating Features\n"
   ]
  },
  {
   "cell_type": "markdown",
   "id": "6c5b0e90",
   "metadata": {},
   "source": [
    "### Problem\n",
    "You have a numerical feature and want to break it up into discrete bins."
   ]
  },
  {
   "cell_type": "markdown",
   "id": "17d7c90e",
   "metadata": {},
   "source": [
    "<h3 style =\"color : green\">Solution ? <h3>"
   ]
  },
  {
   "cell_type": "code",
   "execution_count": null,
   "id": "6152e395",
   "metadata": {},
   "outputs": [],
   "source": []
  },
  {
   "cell_type": "code",
   "execution_count": null,
   "id": "ecde178f",
   "metadata": {},
   "outputs": [],
   "source": []
  },
  {
   "cell_type": "code",
   "execution_count": null,
   "id": "25c91b87",
   "metadata": {},
   "outputs": [],
   "source": []
  },
  {
   "cell_type": "code",
   "execution_count": null,
   "id": "9d60de5b",
   "metadata": {},
   "outputs": [],
   "source": []
  },
  {
   "cell_type": "code",
   "execution_count": null,
   "id": "45eebccd",
   "metadata": {},
   "outputs": [],
   "source": []
  },
  {
   "cell_type": "code",
   "execution_count": null,
   "id": "e19472ed",
   "metadata": {},
   "outputs": [],
   "source": []
  },
  {
   "cell_type": "code",
   "execution_count": null,
   "id": "9acc7744",
   "metadata": {},
   "outputs": [],
   "source": []
  },
  {
   "cell_type": "markdown",
   "id": "90741e28",
   "metadata": {},
   "source": [
    "## Grouping Observations Using Clustering\n"
   ]
  },
  {
   "cell_type": "markdown",
   "id": "7336fd2b",
   "metadata": {},
   "source": [
    "### Problem\n",
    "You want to cluster observations so that similar observations are grouped together."
   ]
  },
  {
   "cell_type": "markdown",
   "id": "6dd54751",
   "metadata": {},
   "source": [
    "<h3 style =\"color : green\">Solution ? <h3>"
   ]
  },
  {
   "cell_type": "code",
   "execution_count": null,
   "id": "03267ba4",
   "metadata": {},
   "outputs": [],
   "source": []
  },
  {
   "cell_type": "code",
   "execution_count": null,
   "id": "5d1c035e",
   "metadata": {},
   "outputs": [],
   "source": []
  },
  {
   "cell_type": "code",
   "execution_count": null,
   "id": "172b1401",
   "metadata": {},
   "outputs": [],
   "source": []
  },
  {
   "cell_type": "code",
   "execution_count": null,
   "id": "24874cb5",
   "metadata": {},
   "outputs": [],
   "source": []
  },
  {
   "cell_type": "code",
   "execution_count": null,
   "id": "5d97a67e",
   "metadata": {},
   "outputs": [],
   "source": []
  },
  {
   "cell_type": "code",
   "execution_count": null,
   "id": "b3d16758",
   "metadata": {},
   "outputs": [],
   "source": []
  },
  {
   "cell_type": "markdown",
   "id": "6e5347ba",
   "metadata": {},
   "source": [
    "##  Deleting Observations with Missing Values\n"
   ]
  },
  {
   "cell_type": "markdown",
   "id": "ab9f8cf8",
   "metadata": {},
   "source": [
    "### Problem\n",
    "You need to delete observations containing missing values"
   ]
  },
  {
   "cell_type": "markdown",
   "id": "7f20ff90",
   "metadata": {},
   "source": [
    "<h3 style =\"color : green\">Solution ? <h3>"
   ]
  },
  {
   "cell_type": "code",
   "execution_count": null,
   "id": "30bb138f",
   "metadata": {},
   "outputs": [],
   "source": []
  },
  {
   "cell_type": "code",
   "execution_count": null,
   "id": "cf321d9f",
   "metadata": {},
   "outputs": [],
   "source": []
  },
  {
   "cell_type": "code",
   "execution_count": null,
   "id": "dd8b8ada",
   "metadata": {},
   "outputs": [],
   "source": []
  },
  {
   "cell_type": "code",
   "execution_count": null,
   "id": "26db47a9",
   "metadata": {},
   "outputs": [],
   "source": []
  },
  {
   "cell_type": "code",
   "execution_count": null,
   "id": "bb8cb535",
   "metadata": {},
   "outputs": [],
   "source": []
  },
  {
   "cell_type": "code",
   "execution_count": null,
   "id": "0d9a09d4",
   "metadata": {},
   "outputs": [],
   "source": []
  },
  {
   "cell_type": "markdown",
   "id": "52546f74",
   "metadata": {},
   "source": [
    "## Imputing Missing Values\n"
   ]
  },
  {
   "cell_type": "markdown",
   "id": "3a79c1b2",
   "metadata": {},
   "source": [
    "### Problem\n",
    "You have missing values in your data and want to fill in or predict their values"
   ]
  },
  {
   "cell_type": "markdown",
   "id": "62a37a20",
   "metadata": {},
   "source": [
    "<h3 style =\"color : green\">Solution ? <h3>"
   ]
  },
  {
   "cell_type": "code",
   "execution_count": null,
   "id": "01826d63",
   "metadata": {},
   "outputs": [],
   "source": []
  }
 ],
 "metadata": {
  "kernelspec": {
   "display_name": "Python 3",
   "language": "python",
   "name": "python3"
  },
  "language_info": {
   "codemirror_mode": {
    "name": "ipython",
    "version": 3
   },
   "file_extension": ".py",
   "mimetype": "text/x-python",
   "name": "python",
   "nbconvert_exporter": "python",
   "pygments_lexer": "ipython3",
   "version": "3.8.8"
  }
 },
 "nbformat": 4,
 "nbformat_minor": 5
}
