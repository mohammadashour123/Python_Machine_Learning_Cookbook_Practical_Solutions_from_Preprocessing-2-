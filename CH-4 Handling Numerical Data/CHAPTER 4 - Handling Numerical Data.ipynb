{
 "cells": [
  {
   "cell_type": "markdown",
   "id": "c8b0f1c9",
   "metadata": {},
   "source": [
    "# CH 4 -  Handling Numerical Data"
   ]
  },
  {
   "cell_type": "markdown",
   "id": "54fe5ba0",
   "metadata": {},
   "source": [
    "## Introduction"
   ]
  },
  {
   "cell_type": "markdown",
   "id": "d072ae22",
   "metadata": {},
   "source": [
    " In this chapter, we will cover numerous strate‐gies for transforming raw numerical data into features purpose-built for machine learning algorithms"
   ]
  },
  {
   "cell_type": "code",
   "execution_count": null,
   "id": "ce535eca",
   "metadata": {},
   "outputs": [],
   "source": []
  },
  {
   "cell_type": "code",
   "execution_count": null,
   "id": "72109894",
   "metadata": {},
   "outputs": [],
   "source": []
  },
  {
   "cell_type": "markdown",
   "id": "86e60b05",
   "metadata": {},
   "source": [
    "## Rescaling a Feature"
   ]
  },
  {
   "cell_type": "markdown",
   "id": "dfc6941b",
   "metadata": {},
   "source": [
    "This means that you're transforming your data so that it fits within a specific scale, like 0-100 or 0-1. You want to scale data when you're using methods based on measures of how far apart data points, like support vector machines, or SVM or k-nearest neighbors, or KNN."
   ]
  },
  {
   "cell_type": "markdown",
   "id": "d08501be",
   "metadata": {},
   "source": [
    "Rescaling is a common preprocessing task in machine learning. Many of the algo‐\n",
    "rithms described later in this book will assume all features are on the same scale, typi‐\n",
    "cally 0 to 1 or –1 to 1. There are a number of rescaling techniques, but one of the\n",
    "simplest is called min-max scaling. Min-max scaling uses the minimum and maxi‐\n",
    "mum values of a feature to rescale values to within a range. "
   ]
  },
  {
   "cell_type": "markdown",
   "id": "d795b3f2",
   "metadata": {},
   "source": [
    "### Problem\n",
    "You need to rescale the values of a numerical feature to be between two values."
   ]
  },
  {
   "cell_type": "markdown",
   "id": "a8352053",
   "metadata": {},
   "source": [
    "<h3 style =\"color : green\">Solution ? <h3>"
   ]
  },
  {
   "cell_type": "code",
   "execution_count": 3,
   "id": "dd2a78c9",
   "metadata": {},
   "outputs": [],
   "source": [
    "from sklearn.preprocessing import MinMaxScaler\n",
    "import numpy as np "
   ]
  },
  {
   "cell_type": "code",
   "execution_count": 11,
   "id": "d41e2046",
   "metadata": {},
   "outputs": [],
   "source": [
    "min_max_scaler = MinMaxScaler(feature_range=(0,1))"
   ]
  },
  {
   "cell_type": "code",
   "execution_count": 12,
   "id": "39d50ded",
   "metadata": {},
   "outputs": [],
   "source": [
    "feature = np.array([[-500.5],\n",
    "                 [-100.1],\n",
    "                 [0],\n",
    "                 [100.1],\n",
    "                 [900.9]])"
   ]
  },
  {
   "cell_type": "code",
   "execution_count": 13,
   "id": "d107f780",
   "metadata": {},
   "outputs": [
    {
     "data": {
      "text/plain": [
       "array([[-500.5],\n",
       "       [-100.1],\n",
       "       [   0. ],\n",
       "       [ 100.1],\n",
       "       [ 900.9]])"
      ]
     },
     "execution_count": 13,
     "metadata": {},
     "output_type": "execute_result"
    }
   ],
   "source": [
    "feature"
   ]
  },
  {
   "cell_type": "code",
   "execution_count": 14,
   "id": "b2bdebf7",
   "metadata": {},
   "outputs": [
    {
     "data": {
      "text/plain": [
       "array([[0.        ],\n",
       "       [0.28571429],\n",
       "       [0.35714286],\n",
       "       [0.42857143],\n",
       "       [1.        ]])"
      ]
     },
     "execution_count": 14,
     "metadata": {},
     "output_type": "execute_result"
    }
   ],
   "source": [
    "min_max_scaler.fit_transform(feature)"
   ]
  },
  {
   "cell_type": "markdown",
   "id": "6da2c2f3",
   "metadata": {},
   "source": [
    "One option is to\n",
    "use fit to calculate the minimum and maximum values of the feature, then use trans\n",
    "form to rescale the feature. The second option is to use fit_transform to do both\n",
    "operations at once. "
   ]
  },
  {
   "cell_type": "code",
   "execution_count": null,
   "id": "f2238599",
   "metadata": {},
   "outputs": [],
   "source": []
  },
  {
   "cell_type": "code",
   "execution_count": null,
   "id": "170a096d",
   "metadata": {},
   "outputs": [],
   "source": []
  },
  {
   "cell_type": "code",
   "execution_count": null,
   "id": "cc1ef8a3",
   "metadata": {},
   "outputs": [],
   "source": []
  },
  {
   "cell_type": "markdown",
   "id": "ff616e68",
   "metadata": {},
   "source": [
    "## Standardizing a Feature\n"
   ]
  },
  {
   "cell_type": "markdown",
   "id": "40c11b74",
   "metadata": {},
   "source": [
    "Standardization is a common go-to scaling method for machine learning preprocess‐\n",
    "ing and in my experience is used more than min-max scaling. However, it depends on\n",
    "the learning algorithm. For example, principal component analysis often works better\n",
    "using standardization, while min-max scaling is often recommended for neural net‐\n",
    "works (both algorithms are discussed later in this book). As a general rule, I’d recom‐\n",
    "mend defaulting to standardization unless you have a specific reason to use an alternativ"
   ]
  },
  {
   "cell_type": "markdown",
   "id": "2b37f406",
   "metadata": {},
   "source": [
    "### Problem\n",
    "You want to transform a feature to have a mean of 0 and a standard deviation of 1."
   ]
  },
  {
   "cell_type": "markdown",
   "id": "009409ad",
   "metadata": {},
   "source": [
    "<h3 style =\"color : green\">Solution ? <h3>"
   ]
  },
  {
   "cell_type": "code",
   "execution_count": 17,
   "id": "882446ba",
   "metadata": {},
   "outputs": [],
   "source": [
    "from sklearn.preprocessing import StandardScaler\n",
    "import numpy as np "
   ]
  },
  {
   "cell_type": "code",
   "execution_count": 18,
   "id": "e6471905",
   "metadata": {},
   "outputs": [],
   "source": [
    "# Create feature matrix\n",
    "features = np.array([[0.5, 0.5],\n",
    "                     [1.1, 3.4],\n",
    "                     [1.5, 20.2],\n",
    "                     [1.63, 34.4],\n",
    "                     [10.9, 3.3]])"
   ]
  },
  {
   "cell_type": "code",
   "execution_count": 19,
   "id": "1463ac69",
   "metadata": {},
   "outputs": [
    {
     "data": {
      "text/plain": [
       "array([[ 0.5 ,  0.5 ],\n",
       "       [ 1.1 ,  3.4 ],\n",
       "       [ 1.5 , 20.2 ],\n",
       "       [ 1.63, 34.4 ],\n",
       "       [10.9 ,  3.3 ]])"
      ]
     },
     "execution_count": 19,
     "metadata": {},
     "output_type": "execute_result"
    }
   ],
   "source": [
    "features"
   ]
  },
  {
   "cell_type": "code",
   "execution_count": 20,
   "id": "aec983d2",
   "metadata": {},
   "outputs": [],
   "source": [
    "std = StandardScaler()"
   ]
  },
  {
   "cell_type": "code",
   "execution_count": 22,
   "id": "4aa24f2e",
   "metadata": {},
   "outputs": [
    {
     "data": {
      "text/plain": [
       "StandardScaler()"
      ]
     },
     "execution_count": 22,
     "metadata": {},
     "output_type": "execute_result"
    }
   ],
   "source": [
    "std.fit(features)"
   ]
  },
  {
   "cell_type": "code",
   "execution_count": 23,
   "id": "a3298569",
   "metadata": {},
   "outputs": [
    {
     "data": {
      "text/plain": [
       "array([[-0.67215216, -0.90948567],\n",
       "       [-0.51857589, -0.68709879],\n",
       "       [-0.4161917 ,  0.60121144],\n",
       "       [-0.38291684,  1.69014032],\n",
       "       [ 1.9898366 , -0.6947673 ]])"
      ]
     },
     "execution_count": 23,
     "metadata": {},
     "output_type": "execute_result"
    }
   ],
   "source": [
    "std.transform(features)"
   ]
  },
  {
   "cell_type": "code",
   "execution_count": null,
   "id": "38860d71",
   "metadata": {},
   "outputs": [],
   "source": []
  },
  {
   "cell_type": "markdown",
   "id": "2a1a3508",
   "metadata": {},
   "source": [
    "## Transforming Features"
   ]
  },
  {
   "cell_type": "markdown",
   "id": "023579aa",
   "metadata": {},
   "source": [
    "## Problem\n",
    "You want to make a custom transformation to one or more features."
   ]
  },
  {
   "cell_type": "markdown",
   "id": "ef4fb3f8",
   "metadata": {},
   "source": [
    "It is common to want to make some custom transformations to one or more features.\n",
    "For example, we might want to create a feature that is the natural log of the values of\n",
    "the different feature. We can do this by creating a function and then mapping it to\n",
    "features using either scikit-learn’s FunctionTransformer or pandas’ apply. In the sol‐\n",
    "ution we created a very simple function, add_ten, which added 10 to each input, but\n",
    "there is no reason we could not define a much more complex function"
   ]
  },
  {
   "cell_type": "markdown",
   "id": "22aac0ec",
   "metadata": {},
   "source": [
    "<h3 style =\"color : green\">Solution ? <h3>"
   ]
  },
  {
   "cell_type": "code",
   "execution_count": 1,
   "id": "9d0f2a8c",
   "metadata": {},
   "outputs": [],
   "source": [
    "import numpy as np \n",
    "from sklearn.preprocessing import FunctionTransformer"
   ]
  },
  {
   "cell_type": "code",
   "execution_count": 3,
   "id": "bc9f3657",
   "metadata": {},
   "outputs": [],
   "source": [
    "# Create feature matrix\n",
    "features = np.array([[2, 3],\n",
    "                     [2, 3],\n",
    "                     [2, 3]])"
   ]
  },
  {
   "cell_type": "code",
   "execution_count": 5,
   "id": "702fe7c6",
   "metadata": {},
   "outputs": [],
   "source": [
    "def add_10(arr):\n",
    "    return arr+10"
   ]
  },
  {
   "cell_type": "code",
   "execution_count": 9,
   "id": "6b535fcb",
   "metadata": {},
   "outputs": [],
   "source": [
    "fr = FunctionTransformer(add_10)"
   ]
  },
  {
   "cell_type": "code",
   "execution_count": 10,
   "id": "ade14c57",
   "metadata": {},
   "outputs": [
    {
     "data": {
      "text/plain": [
       "array([[12, 13],\n",
       "       [12, 13],\n",
       "       [12, 13]])"
      ]
     },
     "execution_count": 10,
     "metadata": {},
     "output_type": "execute_result"
    }
   ],
   "source": [
    "fr.transform(features)"
   ]
  },
  {
   "cell_type": "code",
   "execution_count": null,
   "id": "53dbf4aa",
   "metadata": {},
   "outputs": [],
   "source": []
  },
  {
   "cell_type": "markdown",
   "id": "7691b3f9",
   "metadata": {},
   "source": [
    "## Detecting Outliers\n"
   ]
  },
  {
   "cell_type": "markdown",
   "id": "19dfd029",
   "metadata": {},
   "source": [
    "### Problem\n",
    "You want to identify extreme observations."
   ]
  },
  {
   "cell_type": "markdown",
   "id": "70e52f03",
   "metadata": {},
   "source": [
    "<h3 style =\"color : green\">Solution ? <h3>"
   ]
  },
  {
   "cell_type": "code",
   "execution_count": null,
   "id": "0eeed30c",
   "metadata": {},
   "outputs": [],
   "source": []
  },
  {
   "cell_type": "code",
   "execution_count": null,
   "id": "5d5d9977",
   "metadata": {},
   "outputs": [],
   "source": []
  },
  {
   "cell_type": "code",
   "execution_count": null,
   "id": "7d759bf4",
   "metadata": {},
   "outputs": [],
   "source": []
  },
  {
   "cell_type": "code",
   "execution_count": null,
   "id": "ea0bd0a4",
   "metadata": {},
   "outputs": [],
   "source": []
  },
  {
   "cell_type": "code",
   "execution_count": null,
   "id": "a12208e3",
   "metadata": {},
   "outputs": [],
   "source": []
  },
  {
   "cell_type": "code",
   "execution_count": null,
   "id": "9620a348",
   "metadata": {},
   "outputs": [],
   "source": []
  },
  {
   "cell_type": "markdown",
   "id": "33b15b35",
   "metadata": {},
   "source": [
    "A major limitation of this approach is the need to specify a contamination parame‐\n",
    "ter, which is the proportion of observations that are outliers—a value that we don’t\n",
    "know. Think of contamination as our estimate of the cleanliness of our data. If we\n",
    "expect our data to have few outliers, we can set contamination to something small.\n",
    "However, if we believe that the data is very likely to have outliers, we can set it to a\n",
    "higher value."
   ]
  },
  {
   "cell_type": "code",
   "execution_count": null,
   "id": "78fe6089",
   "metadata": {},
   "outputs": [],
   "source": []
  },
  {
   "cell_type": "code",
   "execution_count": null,
   "id": "610c4708",
   "metadata": {},
   "outputs": [],
   "source": []
  },
  {
   "cell_type": "code",
   "execution_count": null,
   "id": "7fb92236",
   "metadata": {},
   "outputs": [],
   "source": []
  },
  {
   "cell_type": "markdown",
   "id": "effd0696",
   "metadata": {},
   "source": [
    "##  Handling Outliers\n"
   ]
  },
  {
   "cell_type": "markdown",
   "id": "c1c86b96",
   "metadata": {},
   "source": [
    "### Problem\n",
    "You have outliers"
   ]
  },
  {
   "cell_type": "markdown",
   "id": "f01161f6",
   "metadata": {},
   "source": [
    "<h3 style =\"color : green\">Solution ? <h3>"
   ]
  },
  {
   "cell_type": "code",
   "execution_count": 11,
   "id": "4491d98c",
   "metadata": {},
   "outputs": [],
   "source": [
    "import pandas as pd"
   ]
  },
  {
   "cell_type": "code",
   "execution_count": 12,
   "id": "0ddecdab",
   "metadata": {},
   "outputs": [],
   "source": [
    "# Create DataFrame\n",
    "houses = pd.DataFrame()"
   ]
  },
  {
   "cell_type": "code",
   "execution_count": 13,
   "id": "2acb6ba5",
   "metadata": {},
   "outputs": [
    {
     "data": {
      "text/html": [
       "<div>\n",
       "<style scoped>\n",
       "    .dataframe tbody tr th:only-of-type {\n",
       "        vertical-align: middle;\n",
       "    }\n",
       "\n",
       "    .dataframe tbody tr th {\n",
       "        vertical-align: top;\n",
       "    }\n",
       "\n",
       "    .dataframe thead th {\n",
       "        text-align: right;\n",
       "    }\n",
       "</style>\n",
       "<table border=\"1\" class=\"dataframe\">\n",
       "  <thead>\n",
       "    <tr style=\"text-align: right;\">\n",
       "      <th></th>\n",
       "    </tr>\n",
       "  </thead>\n",
       "  <tbody>\n",
       "  </tbody>\n",
       "</table>\n",
       "</div>"
      ],
      "text/plain": [
       "Empty DataFrame\n",
       "Columns: []\n",
       "Index: []"
      ]
     },
     "execution_count": 13,
     "metadata": {},
     "output_type": "execute_result"
    }
   ],
   "source": [
    "houses"
   ]
  },
  {
   "cell_type": "code",
   "execution_count": 14,
   "id": "940f4101",
   "metadata": {},
   "outputs": [],
   "source": [
    "houses['Price'] = [534433, 392333, 293222, 4322032]\n",
    "houses['Bathrooms'] = [2, 3.5, 2, 116]\n",
    "houses['Square_Feet'] = [1500, 2500, 1500, 48000]"
   ]
  },
  {
   "cell_type": "code",
   "execution_count": 15,
   "id": "99ba7b1a",
   "metadata": {},
   "outputs": [
    {
     "data": {
      "text/html": [
       "<div>\n",
       "<style scoped>\n",
       "    .dataframe tbody tr th:only-of-type {\n",
       "        vertical-align: middle;\n",
       "    }\n",
       "\n",
       "    .dataframe tbody tr th {\n",
       "        vertical-align: top;\n",
       "    }\n",
       "\n",
       "    .dataframe thead th {\n",
       "        text-align: right;\n",
       "    }\n",
       "</style>\n",
       "<table border=\"1\" class=\"dataframe\">\n",
       "  <thead>\n",
       "    <tr style=\"text-align: right;\">\n",
       "      <th></th>\n",
       "      <th>Price</th>\n",
       "      <th>Bathrooms</th>\n",
       "      <th>Square_Feet</th>\n",
       "    </tr>\n",
       "  </thead>\n",
       "  <tbody>\n",
       "    <tr>\n",
       "      <th>0</th>\n",
       "      <td>534433</td>\n",
       "      <td>2.0</td>\n",
       "      <td>1500</td>\n",
       "    </tr>\n",
       "    <tr>\n",
       "      <th>1</th>\n",
       "      <td>392333</td>\n",
       "      <td>3.5</td>\n",
       "      <td>2500</td>\n",
       "    </tr>\n",
       "    <tr>\n",
       "      <th>2</th>\n",
       "      <td>293222</td>\n",
       "      <td>2.0</td>\n",
       "      <td>1500</td>\n",
       "    </tr>\n",
       "    <tr>\n",
       "      <th>3</th>\n",
       "      <td>4322032</td>\n",
       "      <td>116.0</td>\n",
       "      <td>48000</td>\n",
       "    </tr>\n",
       "  </tbody>\n",
       "</table>\n",
       "</div>"
      ],
      "text/plain": [
       "     Price  Bathrooms  Square_Feet\n",
       "0   534433        2.0         1500\n",
       "1   392333        3.5         2500\n",
       "2   293222        2.0         1500\n",
       "3  4322032      116.0        48000"
      ]
     },
     "execution_count": 15,
     "metadata": {},
     "output_type": "execute_result"
    }
   ],
   "source": [
    "houses"
   ]
  },
  {
   "cell_type": "code",
   "execution_count": 16,
   "id": "0154e962",
   "metadata": {},
   "outputs": [
    {
     "data": {
      "text/html": [
       "<div>\n",
       "<style scoped>\n",
       "    .dataframe tbody tr th:only-of-type {\n",
       "        vertical-align: middle;\n",
       "    }\n",
       "\n",
       "    .dataframe tbody tr th {\n",
       "        vertical-align: top;\n",
       "    }\n",
       "\n",
       "    .dataframe thead th {\n",
       "        text-align: right;\n",
       "    }\n",
       "</style>\n",
       "<table border=\"1\" class=\"dataframe\">\n",
       "  <thead>\n",
       "    <tr style=\"text-align: right;\">\n",
       "      <th></th>\n",
       "      <th>Price</th>\n",
       "      <th>Bathrooms</th>\n",
       "      <th>Square_Feet</th>\n",
       "    </tr>\n",
       "  </thead>\n",
       "  <tbody>\n",
       "    <tr>\n",
       "      <th>0</th>\n",
       "      <td>534433</td>\n",
       "      <td>2.0</td>\n",
       "      <td>1500</td>\n",
       "    </tr>\n",
       "    <tr>\n",
       "      <th>1</th>\n",
       "      <td>392333</td>\n",
       "      <td>3.5</td>\n",
       "      <td>2500</td>\n",
       "    </tr>\n",
       "    <tr>\n",
       "      <th>2</th>\n",
       "      <td>293222</td>\n",
       "      <td>2.0</td>\n",
       "      <td>1500</td>\n",
       "    </tr>\n",
       "  </tbody>\n",
       "</table>\n",
       "</div>"
      ],
      "text/plain": [
       "    Price  Bathrooms  Square_Feet\n",
       "0  534433        2.0         1500\n",
       "1  392333        3.5         2500\n",
       "2  293222        2.0         1500"
      ]
     },
     "execution_count": 16,
     "metadata": {},
     "output_type": "execute_result"
    }
   ],
   "source": [
    "houses[houses['Bathrooms'] < 10]"
   ]
  },
  {
   "cell_type": "code",
   "execution_count": 17,
   "id": "0a74dacb",
   "metadata": {},
   "outputs": [],
   "source": [
    "import numpy as np "
   ]
  },
  {
   "cell_type": "code",
   "execution_count": 18,
   "id": "8dc1dd98",
   "metadata": {},
   "outputs": [],
   "source": [
    "houses['out'] = np.where(houses['Bathrooms'] < 10 , 0 , 1)"
   ]
  },
  {
   "cell_type": "code",
   "execution_count": 19,
   "id": "0ad63c61",
   "metadata": {},
   "outputs": [
    {
     "data": {
      "text/html": [
       "<div>\n",
       "<style scoped>\n",
       "    .dataframe tbody tr th:only-of-type {\n",
       "        vertical-align: middle;\n",
       "    }\n",
       "\n",
       "    .dataframe tbody tr th {\n",
       "        vertical-align: top;\n",
       "    }\n",
       "\n",
       "    .dataframe thead th {\n",
       "        text-align: right;\n",
       "    }\n",
       "</style>\n",
       "<table border=\"1\" class=\"dataframe\">\n",
       "  <thead>\n",
       "    <tr style=\"text-align: right;\">\n",
       "      <th></th>\n",
       "      <th>Price</th>\n",
       "      <th>Bathrooms</th>\n",
       "      <th>Square_Feet</th>\n",
       "      <th>out</th>\n",
       "    </tr>\n",
       "  </thead>\n",
       "  <tbody>\n",
       "    <tr>\n",
       "      <th>0</th>\n",
       "      <td>534433</td>\n",
       "      <td>2.0</td>\n",
       "      <td>1500</td>\n",
       "      <td>0</td>\n",
       "    </tr>\n",
       "    <tr>\n",
       "      <th>1</th>\n",
       "      <td>392333</td>\n",
       "      <td>3.5</td>\n",
       "      <td>2500</td>\n",
       "      <td>0</td>\n",
       "    </tr>\n",
       "    <tr>\n",
       "      <th>2</th>\n",
       "      <td>293222</td>\n",
       "      <td>2.0</td>\n",
       "      <td>1500</td>\n",
       "      <td>0</td>\n",
       "    </tr>\n",
       "    <tr>\n",
       "      <th>3</th>\n",
       "      <td>4322032</td>\n",
       "      <td>116.0</td>\n",
       "      <td>48000</td>\n",
       "      <td>1</td>\n",
       "    </tr>\n",
       "  </tbody>\n",
       "</table>\n",
       "</div>"
      ],
      "text/plain": [
       "     Price  Bathrooms  Square_Feet  out\n",
       "0   534433        2.0         1500    0\n",
       "1   392333        3.5         2500    0\n",
       "2   293222        2.0         1500    0\n",
       "3  4322032      116.0        48000    1"
      ]
     },
     "execution_count": 19,
     "metadata": {},
     "output_type": "execute_result"
    }
   ],
   "source": [
    "houses"
   ]
  },
  {
   "cell_type": "code",
   "execution_count": null,
   "id": "e0cec8b8",
   "metadata": {},
   "outputs": [],
   "source": []
  },
  {
   "cell_type": "markdown",
   "id": "0e5b8422",
   "metadata": {},
   "source": [
    "## Discretizating Features\n"
   ]
  },
  {
   "cell_type": "markdown",
   "id": "6c5b0e90",
   "metadata": {},
   "source": [
    "### Problem\n",
    "You have a numerical feature and want to break it up into discrete bins."
   ]
  },
  {
   "cell_type": "markdown",
   "id": "17d7c90e",
   "metadata": {},
   "source": [
    "<h3 style =\"color : green\">Solution ? <h3>"
   ]
  },
  {
   "cell_type": "code",
   "execution_count": null,
   "id": "6152e395",
   "metadata": {},
   "outputs": [],
   "source": []
  },
  {
   "cell_type": "code",
   "execution_count": null,
   "id": "ecde178f",
   "metadata": {},
   "outputs": [],
   "source": []
  },
  {
   "cell_type": "code",
   "execution_count": null,
   "id": "25c91b87",
   "metadata": {},
   "outputs": [],
   "source": []
  },
  {
   "cell_type": "code",
   "execution_count": null,
   "id": "9d60de5b",
   "metadata": {},
   "outputs": [],
   "source": []
  },
  {
   "cell_type": "code",
   "execution_count": null,
   "id": "45eebccd",
   "metadata": {},
   "outputs": [],
   "source": []
  },
  {
   "cell_type": "code",
   "execution_count": null,
   "id": "e19472ed",
   "metadata": {},
   "outputs": [],
   "source": []
  },
  {
   "cell_type": "code",
   "execution_count": null,
   "id": "9acc7744",
   "metadata": {},
   "outputs": [],
   "source": []
  },
  {
   "cell_type": "markdown",
   "id": "90741e28",
   "metadata": {},
   "source": [
    "## Grouping Observations Using Clustering\n"
   ]
  },
  {
   "cell_type": "markdown",
   "id": "7336fd2b",
   "metadata": {},
   "source": [
    "### Problem\n",
    "You want to cluster observations so that similar observations are grouped together."
   ]
  },
  {
   "cell_type": "markdown",
   "id": "6dd54751",
   "metadata": {},
   "source": [
    "<h3 style =\"color : green\">Solution ? <h3>"
   ]
  },
  {
   "cell_type": "code",
   "execution_count": null,
   "id": "03267ba4",
   "metadata": {},
   "outputs": [],
   "source": []
  },
  {
   "cell_type": "code",
   "execution_count": null,
   "id": "5d1c035e",
   "metadata": {},
   "outputs": [],
   "source": []
  },
  {
   "cell_type": "code",
   "execution_count": null,
   "id": "172b1401",
   "metadata": {},
   "outputs": [],
   "source": []
  },
  {
   "cell_type": "code",
   "execution_count": null,
   "id": "24874cb5",
   "metadata": {},
   "outputs": [],
   "source": []
  },
  {
   "cell_type": "code",
   "execution_count": null,
   "id": "5d97a67e",
   "metadata": {},
   "outputs": [],
   "source": []
  },
  {
   "cell_type": "code",
   "execution_count": null,
   "id": "b3d16758",
   "metadata": {},
   "outputs": [],
   "source": []
  },
  {
   "cell_type": "markdown",
   "id": "6e5347ba",
   "metadata": {},
   "source": [
    "##  Deleting Observations with Missing Values\n"
   ]
  },
  {
   "cell_type": "markdown",
   "id": "ab9f8cf8",
   "metadata": {},
   "source": [
    "### Problem\n",
    "You need to delete observations containing missing values"
   ]
  },
  {
   "cell_type": "markdown",
   "id": "7f20ff90",
   "metadata": {},
   "source": [
    "<h3 style =\"color : green\">Solution ? <h3>"
   ]
  },
  {
   "cell_type": "code",
   "execution_count": null,
   "id": "30bb138f",
   "metadata": {},
   "outputs": [],
   "source": []
  },
  {
   "cell_type": "code",
   "execution_count": null,
   "id": "cf321d9f",
   "metadata": {},
   "outputs": [],
   "source": []
  },
  {
   "cell_type": "code",
   "execution_count": null,
   "id": "dd8b8ada",
   "metadata": {},
   "outputs": [],
   "source": []
  },
  {
   "cell_type": "code",
   "execution_count": null,
   "id": "26db47a9",
   "metadata": {},
   "outputs": [],
   "source": []
  },
  {
   "cell_type": "code",
   "execution_count": null,
   "id": "bb8cb535",
   "metadata": {},
   "outputs": [],
   "source": []
  },
  {
   "cell_type": "code",
   "execution_count": null,
   "id": "0d9a09d4",
   "metadata": {},
   "outputs": [],
   "source": []
  },
  {
   "cell_type": "markdown",
   "id": "52546f74",
   "metadata": {},
   "source": [
    "## Imputing Missing Values\n"
   ]
  },
  {
   "cell_type": "markdown",
   "id": "3a79c1b2",
   "metadata": {},
   "source": [
    "### Problem\n",
    "You have missing values in your data and want to fill in or predict their values"
   ]
  },
  {
   "cell_type": "markdown",
   "id": "62a37a20",
   "metadata": {},
   "source": [
    "<h3 style =\"color : green\">Solution ? <h3>"
   ]
  },
  {
   "cell_type": "code",
   "execution_count": null,
   "id": "01826d63",
   "metadata": {},
   "outputs": [],
   "source": []
  }
 ],
 "metadata": {
  "kernelspec": {
   "display_name": "Python 3 (ipykernel)",
   "language": "python",
   "name": "python3"
  },
  "language_info": {
   "codemirror_mode": {
    "name": "ipython",
    "version": 3
   },
   "file_extension": ".py",
   "mimetype": "text/x-python",
   "name": "python",
   "nbconvert_exporter": "python",
   "pygments_lexer": "ipython3",
   "version": "3.9.7"
  }
 },
 "nbformat": 4,
 "nbformat_minor": 5
}
