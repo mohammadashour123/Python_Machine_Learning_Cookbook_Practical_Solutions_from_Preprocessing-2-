{
 "cells": [
  {
   "cell_type": "markdown",
   "id": "6bc96b2b",
   "metadata": {},
   "source": [
    "<h1 style='color:blue'> Machine Learning with\n",
    "Python Cookbook , <h3 style='color:black'>Practical Solutions from Preprocessing\n",
    "to Deep Learning<h3> <h1>\n"
   ]
  },
  {
   "cell_type": "markdown",
   "id": "be590be1",
   "metadata": {},
   "source": [
    "<h2>Chapter 1 : Vectors, Matrices, and Arrays <h2>"
   ]
  },
  {
   "cell_type": "markdown",
   "id": "b232d725",
   "metadata": {},
   "source": [
    "## NumPy\n",
    "* is the foundation of the Python machine learning stack. \n",
    "* NumPy allows for efficient operations on the data structures often used in machine learning: vectors, matrices, and tensors.\n",
    "* While NumPy is not the focus of this book, it will show up fre‐ quently throughout the following chapters. This chapter covers the most common NumPy operations we are likely to run into while working on machine learning workflows"
   ]
  },
  {
   "cell_type": "markdown",
   "id": "750795e0",
   "metadata": {},
   "source": [
    "## 1.1 Creating a Vector"
   ]
  },
  {
   "cell_type": "markdown",
   "id": "3112c8af",
   "metadata": {},
   "source": [
    "### Problem\n",
    "You need to create a vector."
   ]
  },
  {
   "cell_type": "markdown",
   "id": "83e735a2",
   "metadata": {},
   "source": [
    "<h3 style =\"color : green\">Solution ? <h3>"
   ]
  },
  {
   "cell_type": "markdown",
   "id": "0f0a06f4",
   "metadata": {},
   "source": [
    "NumPy’s main data structure is the multidimensional array. To create a vector, we\n",
    "simply create a one-dimensional array. Just like vectors, these arrays can be repre‐\n",
    "sented horizontally (i.e., rows) or vertically (i.e., columns)."
   ]
  },
  {
   "cell_type": "code",
   "execution_count": 1,
   "id": "97ba421b",
   "metadata": {},
   "outputs": [],
   "source": [
    "## load library\n",
    "import numpy as np "
   ]
  },
  {
   "cell_type": "code",
   "execution_count": 10,
   "id": "746a564b",
   "metadata": {},
   "outputs": [],
   "source": [
    "# create a row vector \n",
    "row_vec = np.array([1,2,3,4,5,6])"
   ]
  },
  {
   "cell_type": "code",
   "execution_count": 11,
   "id": "6613d2ca",
   "metadata": {},
   "outputs": [
    {
     "name": "stdout",
     "output_type": "stream",
     "text": [
      "[1 2 3 4 5 6]\n"
     ]
    }
   ],
   "source": [
    "print(row_vec)"
   ]
  },
  {
   "cell_type": "code",
   "execution_count": 14,
   "id": "055e714d",
   "metadata": {},
   "outputs": [],
   "source": [
    "# create a col vector \n",
    "col_vec = np.array([[10],[20],[30],[40],[50],[100],[25778]])"
   ]
  },
  {
   "cell_type": "code",
   "execution_count": 15,
   "id": "8fde23a4",
   "metadata": {},
   "outputs": [
    {
     "name": "stdout",
     "output_type": "stream",
     "text": [
      "[[   10]\n",
      " [   20]\n",
      " [   30]\n",
      " [   40]\n",
      " [   50]\n",
      " [  100]\n",
      " [25778]]\n"
     ]
    }
   ],
   "source": [
    "print(col_vec)"
   ]
  },
  {
   "cell_type": "code",
   "execution_count": null,
   "id": "80664fbd",
   "metadata": {},
   "outputs": [],
   "source": []
  },
  {
   "cell_type": "markdown",
   "id": "082de0e9",
   "metadata": {},
   "source": [
    "## 1.2 Creating a Matrix\n"
   ]
  },
  {
   "cell_type": "markdown",
   "id": "d6f57bc6",
   "metadata": {},
   "source": [
    "### Problem\n",
    "You need to create a matrix."
   ]
  },
  {
   "cell_type": "markdown",
   "id": "d9031250",
   "metadata": {},
   "source": [
    "<h3 style =\"color : green\">Solution ? <h3>"
   ]
  },
  {
   "cell_type": "markdown",
   "id": "39339703",
   "metadata": {},
   "source": [
    "To create a matrix we can use a NumPy two-dimensional array. In our solution, the\n",
    "matrix contains three rows and two columns (a column of 1s and a column of 2s)."
   ]
  },
  {
   "cell_type": "code",
   "execution_count": 16,
   "id": "d9026d95",
   "metadata": {},
   "outputs": [],
   "source": [
    "import numpy as np"
   ]
  },
  {
   "cell_type": "code",
   "execution_count": 24,
   "id": "6582c5d2",
   "metadata": {
    "scrolled": true
   },
   "outputs": [],
   "source": [
    "# Create a matrix\n",
    "matrix = np.array([[1,2,3] , [20,30,6] , [25,60,8] , [10,18,10] , [15 ,22,19]])"
   ]
  },
  {
   "cell_type": "code",
   "execution_count": 25,
   "id": "e048600e",
   "metadata": {},
   "outputs": [
    {
     "name": "stdout",
     "output_type": "stream",
     "text": [
      "[[ 1  2  3]\n",
      " [20 30  6]\n",
      " [25 60  8]\n",
      " [10 18 10]\n",
      " [15 22 19]]\n"
     ]
    }
   ],
   "source": [
    "print(matrix)"
   ]
  },
  {
   "cell_type": "code",
   "execution_count": null,
   "id": "b6433cf7",
   "metadata": {},
   "outputs": [],
   "source": []
  },
  {
   "cell_type": "markdown",
   "id": "8aaf1886",
   "metadata": {},
   "source": [
    "## 1.3 Creating a Sparse Matrix"
   ]
  },
  {
   "cell_type": "markdown",
   "id": "48bc5979",
   "metadata": {},
   "source": [
    "### Problem\n",
    "Given data with very few nonzero values, you want to efficiently represent it."
   ]
  },
  {
   "cell_type": "markdown",
   "id": "c7df4977",
   "metadata": {},
   "source": [
    "<h3 style =\"color : green\">Solution ? <h3>"
   ]
  },
  {
   "cell_type": "code",
   "execution_count": 2,
   "id": "c27d1f26",
   "metadata": {},
   "outputs": [],
   "source": [
    "from scipy import sparse"
   ]
  },
  {
   "cell_type": "code",
   "execution_count": 13,
   "id": "6c8a1b13",
   "metadata": {},
   "outputs": [],
   "source": [
    "# Create a matrix\n",
    "matrix = np.array([[0, 0],\n",
    "                   [0, 1],\n",
    "                   [3, 0]])"
   ]
  },
  {
   "cell_type": "code",
   "execution_count": 14,
   "id": "ea0a63c0",
   "metadata": {},
   "outputs": [],
   "source": [
    "matrix_space = sparse.csr_matrix(matrix)"
   ]
  },
  {
   "cell_type": "markdown",
   "id": "1c1f9d34",
   "metadata": {},
   "source": [
    " frequent situation in machine learning is having a huge amount of data; however,\n",
    "most of the elements in the data are zeros. For example, imagine a matrix where the\n",
    "columns are every movie on Netflix, the rows are every Netflix user, and the values\n",
    "are how many times a user has watched that particular movie. This matrix would\n",
    "have tens of thousands of columns and millions of rows! However, since most users\n",
    "do not watch most movies, the vast majority of elements would be zero.\n",
    "Sparse matrices only store nonzero elements and assume all other values will be zero,\n",
    "leading to significant computational savings. In our solution, we created a NumPy\n",
    "array with two nonzero values, then converted it into a sparse matrix. If we view the\n",
    "sparse matrix we can see that only the nonzero values are stored"
   ]
  },
  {
   "cell_type": "code",
   "execution_count": 15,
   "id": "de128d58",
   "metadata": {
    "scrolled": true
   },
   "outputs": [
    {
     "name": "stdout",
     "output_type": "stream",
     "text": [
      "  (1, 1)\t1\n",
      "  (2, 0)\t3\n"
     ]
    }
   ],
   "source": [
    "print(matrix_space)"
   ]
  },
  {
   "cell_type": "markdown",
   "id": "e0af9612",
   "metadata": {},
   "source": [
    "There are a number of types of sparse matrices. However, in compressed sparse row\n",
    "(CSR) matrices, (1, 1) and (2, 0) represent the (zero-indexed) indices of the non zero values 1 and 3, respectively."
   ]
  },
  {
   "cell_type": "code",
   "execution_count": 16,
   "id": "78a4dfa8",
   "metadata": {},
   "outputs": [],
   "source": [
    "# Create larger matrix\n",
    "matrix_large = np.array([[0, 0, 0, 0, 0, 0, 0, 0, 0, 0],\n",
    "                         [0, 1, 0, 0, 0, 0, 0, 0, 0, 0],\n",
    "                         [3, 0, 0, 0, 0, 0, 0, 0, 0, 0]])"
   ]
  },
  {
   "cell_type": "code",
   "execution_count": 17,
   "id": "3932b189",
   "metadata": {},
   "outputs": [],
   "source": [
    "# Create compressed sparse row (CSR) matrix\n",
    "matrix_large_sparse = sparse.csr_matrix(matrix_large)"
   ]
  },
  {
   "cell_type": "code",
   "execution_count": 18,
   "id": "84cbf75c",
   "metadata": {},
   "outputs": [
    {
     "name": "stdout",
     "output_type": "stream",
     "text": [
      "  (1, 1)\t1\n",
      "  (2, 0)\t3\n"
     ]
    }
   ],
   "source": [
    "# View original sparse matrix\n",
    "print(matrix_space)"
   ]
  },
  {
   "cell_type": "code",
   "execution_count": 19,
   "id": "3e435ca7",
   "metadata": {},
   "outputs": [
    {
     "name": "stdout",
     "output_type": "stream",
     "text": [
      "  (1, 1)\t1\n",
      "  (2, 0)\t3\n"
     ]
    }
   ],
   "source": [
    "# View larger sparse matrix\n",
    "print(matrix_large_sparse)"
   ]
  },
  {
   "cell_type": "code",
   "execution_count": null,
   "id": "01d19571",
   "metadata": {},
   "outputs": [],
   "source": []
  },
  {
   "cell_type": "markdown",
   "id": "466d8175",
   "metadata": {},
   "source": [
    "##  1.4 Selecting Elements\n"
   ]
  },
  {
   "cell_type": "markdown",
   "id": "74479357",
   "metadata": {},
   "source": [
    "### Problem\n",
    "You need to select one or more elements in a vector or matrix."
   ]
  },
  {
   "cell_type": "markdown",
   "id": "189a6985",
   "metadata": {},
   "source": [
    "NumPy arrays are zero-indexed, meaning that the index\n",
    "of the first element is 0, not 1"
   ]
  },
  {
   "cell_type": "markdown",
   "id": "0f917153",
   "metadata": {},
   "source": [
    "<h3 style =\"color : green\">Solution ? <h3>"
   ]
  },
  {
   "cell_type": "code",
   "execution_count": 13,
   "id": "8653624a",
   "metadata": {},
   "outputs": [],
   "source": [
    "# Create row vector\n",
    "row_vector = np.array([1,2,3,4,5,6,10])\n",
    "                    #  0 1 2 3 4 5 6"
   ]
  },
  {
   "cell_type": "code",
   "execution_count": 14,
   "id": "6102f1b4",
   "metadata": {},
   "outputs": [],
   "source": [
    "# Create matrix\n",
    "mat = np.array([[10,20],[50,80]])"
   ]
  },
  {
   "cell_type": "code",
   "execution_count": 17,
   "id": "2ea4fd01",
   "metadata": {},
   "outputs": [
    {
     "data": {
      "text/plain": [
       "3"
      ]
     },
     "execution_count": 17,
     "metadata": {},
     "output_type": "execute_result"
    }
   ],
   "source": [
    "# Select third element of vector\n",
    "row_vector[2]"
   ]
  },
  {
   "cell_type": "code",
   "execution_count": 19,
   "id": "44dd474c",
   "metadata": {},
   "outputs": [
    {
     "data": {
      "text/plain": [
       "array([ 1,  2,  3,  4,  5,  6, 10])"
      ]
     },
     "execution_count": 19,
     "metadata": {},
     "output_type": "execute_result"
    }
   ],
   "source": [
    "# Select all elements of a vector\n",
    "row_vector[:]"
   ]
  },
  {
   "cell_type": "code",
   "execution_count": 22,
   "id": "ffd131d9",
   "metadata": {},
   "outputs": [
    {
     "data": {
      "text/plain": [
       "array([1, 2, 3])"
      ]
     },
     "execution_count": 22,
     "metadata": {},
     "output_type": "execute_result"
    }
   ],
   "source": [
    "# Select everything up to and including the third element\n",
    "row_vector[:3]"
   ]
  },
  {
   "cell_type": "code",
   "execution_count": 23,
   "id": "4d341f5c",
   "metadata": {},
   "outputs": [
    {
     "data": {
      "text/plain": [
       "array([ 4,  5,  6, 10])"
      ]
     },
     "execution_count": 23,
     "metadata": {},
     "output_type": "execute_result"
    }
   ],
   "source": [
    "# Select everything after the third element\n",
    "row_vector[3:]"
   ]
  },
  {
   "cell_type": "code",
   "execution_count": 24,
   "id": "1e48d879",
   "metadata": {},
   "outputs": [
    {
     "data": {
      "text/plain": [
       "10"
      ]
     },
     "execution_count": 24,
     "metadata": {},
     "output_type": "execute_result"
    }
   ],
   "source": [
    "# Select the last element\n",
    "row_vector[-1]"
   ]
  },
  {
   "cell_type": "code",
   "execution_count": 25,
   "id": "57dc09ab",
   "metadata": {},
   "outputs": [
    {
     "data": {
      "text/plain": [
       "6"
      ]
     },
     "execution_count": 25,
     "metadata": {},
     "output_type": "execute_result"
    }
   ],
   "source": [
    "# Select the second last element\n",
    "row_vector[-2]"
   ]
  },
  {
   "cell_type": "code",
   "execution_count": 31,
   "id": "ef0a702b",
   "metadata": {},
   "outputs": [
    {
     "data": {
      "text/plain": [
       "array([[10, 20],\n",
       "       [50, 80]])"
      ]
     },
     "execution_count": 31,
     "metadata": {},
     "output_type": "execute_result"
    }
   ],
   "source": [
    "# Select the first two rows and all columns of a matrix\n",
    "mat[0:2:]"
   ]
  },
  {
   "cell_type": "markdown",
   "id": "309c0d29",
   "metadata": {},
   "source": [
    "## 1.5 Describing a Matrix"
   ]
  },
  {
   "cell_type": "markdown",
   "id": "e4df8491",
   "metadata": {},
   "source": [
    "### Problem\n",
    "You want to describe the shape, size, and dimensions of the matrix."
   ]
  },
  {
   "cell_type": "markdown",
   "id": "7d1a05b0",
   "metadata": {},
   "source": [
    "<h3 style =\"color : green\">Solution ? <h3>"
   ]
  },
  {
   "cell_type": "code",
   "execution_count": 6,
   "id": "f45d1cac",
   "metadata": {},
   "outputs": [],
   "source": [
    "matrix = np.array([[1, 2, 3, 4],\n",
    "                    [5, 6, 7, 8],\n",
    "                    [9, 10, 11, 12]])"
   ]
  },
  {
   "cell_type": "code",
   "execution_count": 10,
   "id": "abd049ec",
   "metadata": {},
   "outputs": [
    {
     "data": {
      "text/plain": [
       "(3, 4)"
      ]
     },
     "execution_count": 10,
     "metadata": {},
     "output_type": "execute_result"
    }
   ],
   "source": [
    "# View number of rows and columns\n",
    "matrix.shape"
   ]
  },
  {
   "cell_type": "code",
   "execution_count": 11,
   "id": "f26347b4",
   "metadata": {},
   "outputs": [
    {
     "data": {
      "text/plain": [
       "2"
      ]
     },
     "execution_count": 11,
     "metadata": {},
     "output_type": "execute_result"
    }
   ],
   "source": [
    "# View number of dimensions\n",
    "matrix.ndim"
   ]
  },
  {
   "cell_type": "code",
   "execution_count": 14,
   "id": "302b82da",
   "metadata": {},
   "outputs": [
    {
     "data": {
      "text/plain": [
       "12"
      ]
     },
     "execution_count": 14,
     "metadata": {},
     "output_type": "execute_result"
    }
   ],
   "source": [
    "# View number of elements (rows * columns)\n",
    "matrix.size"
   ]
  },
  {
   "cell_type": "code",
   "execution_count": null,
   "id": "18f3f928",
   "metadata": {},
   "outputs": [],
   "source": [
    "\n"
   ]
  },
  {
   "cell_type": "markdown",
   "id": "7dc241f6",
   "metadata": {},
   "source": [
    "##  1.6 Applying Operations to Elements"
   ]
  },
  {
   "cell_type": "markdown",
   "id": "76ecc2d0",
   "metadata": {},
   "source": [
    "### Problem\n",
    "You want to apply some function to multiple elements in an array"
   ]
  },
  {
   "cell_type": "markdown",
   "id": "c44c4cb4",
   "metadata": {},
   "source": [
    "<h3 style =\"color : green\">Solution ? <h3>"
   ]
  },
  {
   "cell_type": "code",
   "execution_count": 4,
   "id": "b36903af",
   "metadata": {},
   "outputs": [],
   "source": [
    "import numpy as np"
   ]
  },
  {
   "cell_type": "code",
   "execution_count": 5,
   "id": "aa155240",
   "metadata": {},
   "outputs": [],
   "source": [
    "# Create matrix\n",
    "matrix = np.array([[1, 2, 3, 4],\n",
    "                    [5, 6, 7, 8],\n",
    "                     [9, 10, 11, 12]])"
   ]
  },
  {
   "cell_type": "code",
   "execution_count": 6,
   "id": "eadbc451",
   "metadata": {},
   "outputs": [
    {
     "name": "stdout",
     "output_type": "stream",
     "text": [
      "[[ 1  2  3  4]\n",
      " [ 5  6  7  8]\n",
      " [ 9 10 11 12]]\n"
     ]
    }
   ],
   "source": [
    "print(matrix)"
   ]
  },
  {
   "cell_type": "code",
   "execution_count": 14,
   "id": "d3e541a8",
   "metadata": {},
   "outputs": [],
   "source": [
    "# Create function that adds 50 to something\n",
    "add_50 = lambda c : c+50"
   ]
  },
  {
   "cell_type": "code",
   "execution_count": 15,
   "id": "3a1c5045",
   "metadata": {},
   "outputs": [],
   "source": [
    "# Create vectorized function\n",
    "vec_add_50 = np.vectorize(add_50)"
   ]
  },
  {
   "cell_type": "code",
   "execution_count": 16,
   "id": "5b7e1850",
   "metadata": {},
   "outputs": [
    {
     "data": {
      "text/plain": [
       "array([[51, 52, 53, 54],\n",
       "       [55, 56, 57, 58],\n",
       "       [59, 60, 61, 62]])"
      ]
     },
     "execution_count": 16,
     "metadata": {},
     "output_type": "execute_result"
    }
   ],
   "source": [
    "vec_add_50(matrix)"
   ]
  },
  {
   "cell_type": "markdown",
   "id": "fa9b02ed",
   "metadata": {},
   "source": [
    "* NumPy’s vectorize class converts a function into a function that can apply to all ele‐ments in an array or slice of an array. It’s worth noting that vectorize is essentially a for loop over the elements and does not increase performance.\n",
    "* NumPy arrays allow us to perform operations between arrays even if their dimensions are notthe same (a process called broadcasting). For example, we can create a much simpler version of our solution using broadcasting:"
   ]
  },
  {
   "cell_type": "code",
   "execution_count": 21,
   "id": "0870272a",
   "metadata": {},
   "outputs": [
    {
     "data": {
      "text/plain": [
       "array([[-99, -98, -97, -96],\n",
       "       [-95, -94, -93, -92],\n",
       "       [-91, -90, -89, -88]])"
      ]
     },
     "execution_count": 21,
     "metadata": {},
     "output_type": "execute_result"
    }
   ],
   "source": [
    "## Add 100 to all elements\n",
    "matrix  - 100"
   ]
  },
  {
   "cell_type": "code",
   "execution_count": null,
   "id": "720964a2",
   "metadata": {},
   "outputs": [],
   "source": []
  },
  {
   "cell_type": "code",
   "execution_count": null,
   "id": "1fb189e0",
   "metadata": {},
   "outputs": [],
   "source": []
  },
  {
   "cell_type": "code",
   "execution_count": null,
   "id": "d8eba665",
   "metadata": {},
   "outputs": [],
   "source": []
  },
  {
   "cell_type": "markdown",
   "id": "093382c7",
   "metadata": {},
   "source": [
    "## 1.7 Finding the Maximum and Minimum Values"
   ]
  },
  {
   "cell_type": "markdown",
   "id": "cf228eae",
   "metadata": {},
   "source": [
    "### Problem\n",
    "You need to find the maximum or minimum value in an array."
   ]
  },
  {
   "cell_type": "markdown",
   "id": "f84737b4",
   "metadata": {},
   "source": [
    "<h3 style =\"color : green\">Solution ? <h3>"
   ]
  },
  {
   "cell_type": "code",
   "execution_count": 26,
   "id": "125b45e5",
   "metadata": {},
   "outputs": [],
   "source": [
    "# Create matrix\n",
    "matrix = np.array([[1, 2, 3],\n",
    "                    [4, 5, 6],\n",
    "                    [7, 8, 9]])"
   ]
  },
  {
   "cell_type": "code",
   "execution_count": 27,
   "id": "27feba2b",
   "metadata": {},
   "outputs": [
    {
     "data": {
      "text/plain": [
       "9"
      ]
     },
     "execution_count": 27,
     "metadata": {},
     "output_type": "execute_result"
    }
   ],
   "source": [
    "# Return maximum element\n",
    "np.max(matrix)"
   ]
  },
  {
   "cell_type": "code",
   "execution_count": 28,
   "id": "561c069c",
   "metadata": {},
   "outputs": [
    {
     "data": {
      "text/plain": [
       "1"
      ]
     },
     "execution_count": 28,
     "metadata": {},
     "output_type": "execute_result"
    }
   ],
   "source": [
    "# Return minimum element\n",
    "np.min(matrix)"
   ]
  },
  {
   "cell_type": "code",
   "execution_count": 31,
   "id": "62149471",
   "metadata": {},
   "outputs": [
    {
     "data": {
      "text/plain": [
       "array([7, 8, 9])"
      ]
     },
     "execution_count": 31,
     "metadata": {},
     "output_type": "execute_result"
    }
   ],
   "source": [
    "# Find maximum element in each column\n",
    "np.max(matrix , axis=0)"
   ]
  },
  {
   "cell_type": "code",
   "execution_count": 32,
   "id": "f21b1f3a",
   "metadata": {},
   "outputs": [
    {
     "data": {
      "text/plain": [
       "array([3, 6, 9])"
      ]
     },
     "execution_count": 32,
     "metadata": {},
     "output_type": "execute_result"
    }
   ],
   "source": [
    "# Find maximum element in each row\n",
    "np.max(matrix , axis=1)"
   ]
  },
  {
   "cell_type": "code",
   "execution_count": null,
   "id": "7471983b",
   "metadata": {},
   "outputs": [],
   "source": []
  },
  {
   "cell_type": "code",
   "execution_count": null,
   "id": "83c3d7dc",
   "metadata": {},
   "outputs": [],
   "source": []
  },
  {
   "cell_type": "markdown",
   "id": "8653bd7c",
   "metadata": {},
   "source": [
    "## Calculating the Average, Variance, and Standard Deviation"
   ]
  },
  {
   "cell_type": "code",
   "execution_count": 46,
   "id": "bd689a06",
   "metadata": {},
   "outputs": [],
   "source": [
    "# Create matrix\n",
    "matrix = np.array([[1, 2, 3],\n",
    "                    [4, 5, 6],\n",
    "                    [7, 8, 9]])"
   ]
  },
  {
   "cell_type": "code",
   "execution_count": 37,
   "id": "98507265",
   "metadata": {},
   "outputs": [
    {
     "data": {
      "text/plain": [
       "5.0"
      ]
     },
     "execution_count": 37,
     "metadata": {},
     "output_type": "execute_result"
    }
   ],
   "source": [
    "# Return mean\n",
    "np.mean(matrix)"
   ]
  },
  {
   "cell_type": "code",
   "execution_count": 38,
   "id": "6c8d1638",
   "metadata": {},
   "outputs": [
    {
     "data": {
      "text/plain": [
       "6.666666666666667"
      ]
     },
     "execution_count": 38,
     "metadata": {},
     "output_type": "execute_result"
    }
   ],
   "source": [
    "# Return variance\n",
    "np.var(matrix)"
   ]
  },
  {
   "cell_type": "code",
   "execution_count": 39,
   "id": "65d5d31f",
   "metadata": {},
   "outputs": [
    {
     "data": {
      "text/plain": [
       "2.581988897471611"
      ]
     },
     "execution_count": 39,
     "metadata": {},
     "output_type": "execute_result"
    }
   ],
   "source": [
    "# Return standard deviation\n",
    "np.std(matrix)"
   ]
  },
  {
   "cell_type": "code",
   "execution_count": 43,
   "id": "07675bab",
   "metadata": {},
   "outputs": [
    {
     "data": {
      "text/plain": [
       "array([0.81649658, 0.81649658, 0.81649658])"
      ]
     },
     "execution_count": 43,
     "metadata": {},
     "output_type": "execute_result"
    }
   ],
   "source": [
    "# Find the mean value in each column\n",
    "np.std(matrix , axis=1)"
   ]
  },
  {
   "cell_type": "code",
   "execution_count": null,
   "id": "74cfaca7",
   "metadata": {},
   "outputs": [],
   "source": []
  },
  {
   "cell_type": "code",
   "execution_count": null,
   "id": "e7a25153",
   "metadata": {},
   "outputs": [],
   "source": []
  },
  {
   "cell_type": "code",
   "execution_count": null,
   "id": "07bd7d0e",
   "metadata": {},
   "outputs": [],
   "source": []
  },
  {
   "cell_type": "code",
   "execution_count": null,
   "id": "97cd5fe2",
   "metadata": {},
   "outputs": [],
   "source": []
  },
  {
   "cell_type": "markdown",
   "id": "fa68b1f5",
   "metadata": {},
   "source": [
    "## Reshaping Arrays"
   ]
  },
  {
   "cell_type": "markdown",
   "id": "a188810d",
   "metadata": {},
   "source": [
    "You want to change the shape (number of rows and columns) of an array without\n",
    "changing the element values."
   ]
  },
  {
   "cell_type": "code",
   "execution_count": 46,
   "id": "ec2c8cfc",
   "metadata": {},
   "outputs": [],
   "source": [
    "# Create 4x3 matrix\n",
    "matrix = np.array([[1, 2, 3],\n",
    "                    [4, 5, 6],\n",
    "                    [7, 8, 9],\n",
    "                    [10, 11, 12]])"
   ]
  },
  {
   "cell_type": "code",
   "execution_count": 47,
   "id": "ca32412d",
   "metadata": {},
   "outputs": [
    {
     "data": {
      "text/plain": [
       "array([[ 1,  2,  3,  4],\n",
       "       [ 5,  6,  7,  8],\n",
       "       [ 9, 10, 11, 12]])"
      ]
     },
     "execution_count": 47,
     "metadata": {},
     "output_type": "execute_result"
    }
   ],
   "source": [
    "# Reshape matrix into 3x4 matrix\n",
    "matrix.reshape(3,4)"
   ]
  },
  {
   "cell_type": "code",
   "execution_count": 49,
   "id": "3e4859e6",
   "metadata": {},
   "outputs": [
    {
     "data": {
      "text/plain": [
       "array([[ 1,  2,  3,  4,  5,  6],\n",
       "       [ 7,  8,  9, 10, 11, 12]])"
      ]
     },
     "execution_count": 49,
     "metadata": {},
     "output_type": "execute_result"
    }
   ],
   "source": [
    "# Reshape matrix into 2x6 matrix\n",
    "matrix.reshape(2,6)"
   ]
  },
  {
   "cell_type": "code",
   "execution_count": 50,
   "id": "68cc7147",
   "metadata": {},
   "outputs": [
    {
     "data": {
      "text/plain": [
       "array([[ 1,  2],\n",
       "       [ 3,  4],\n",
       "       [ 5,  6],\n",
       "       [ 7,  8],\n",
       "       [ 9, 10],\n",
       "       [11, 12]])"
      ]
     },
     "execution_count": 50,
     "metadata": {},
     "output_type": "execute_result"
    }
   ],
   "source": [
    "matrix.reshape(6,2)"
   ]
  },
  {
   "cell_type": "markdown",
   "id": "d1bbafd7",
   "metadata": {},
   "source": [
    "The only requirement is that\n",
    "the shape of the original and new matrix contain the same number of elements"
   ]
  },
  {
   "cell_type": "code",
   "execution_count": 48,
   "id": "cc50a7a4",
   "metadata": {},
   "outputs": [
    {
     "data": {
      "text/plain": [
       "12"
      ]
     },
     "execution_count": 48,
     "metadata": {},
     "output_type": "execute_result"
    }
   ],
   "source": [
    "matrix.size"
   ]
  },
  {
   "cell_type": "markdown",
   "id": "412429c5",
   "metadata": {},
   "source": [
    "if we provide one integer, reshape will return a 1D array of that length:"
   ]
  },
  {
   "cell_type": "code",
   "execution_count": 55,
   "id": "22f3ac2c",
   "metadata": {},
   "outputs": [
    {
     "data": {
      "text/plain": [
       "array([ 1,  2,  3,  4,  5,  6,  7,  8,  9, 10, 11, 12])"
      ]
     },
     "execution_count": 55,
     "metadata": {},
     "output_type": "execute_result"
    }
   ],
   "source": [
    "matrix.reshape(12)"
   ]
  },
  {
   "cell_type": "code",
   "execution_count": null,
   "id": "1a5f1c79",
   "metadata": {},
   "outputs": [],
   "source": []
  },
  {
   "cell_type": "markdown",
   "id": "04c46098",
   "metadata": {},
   "source": [
    "## Transposing a Vector or Matrix"
   ]
  },
  {
   "cell_type": "markdown",
   "id": "a5094a57",
   "metadata": {},
   "source": [
    "You need to transpose a vector or matrix.\n"
   ]
  },
  {
   "cell_type": "code",
   "execution_count": 65,
   "id": "938e98d5",
   "metadata": {},
   "outputs": [],
   "source": [
    "# Create matrix\n",
    "matrix = np.array([[1, 2, 3],\n",
    "                  [4, 5, 6],\n",
    "                  [7, 8, 9]])"
   ]
  },
  {
   "cell_type": "code",
   "execution_count": 66,
   "id": "1a3101ee",
   "metadata": {},
   "outputs": [
    {
     "data": {
      "text/plain": [
       "array([[1, 4, 7],\n",
       "       [2, 5, 8],\n",
       "       [3, 6, 9]])"
      ]
     },
     "execution_count": 66,
     "metadata": {},
     "output_type": "execute_result"
    }
   ],
   "source": [
    "# Transpose matrix\n",
    "matrix.T"
   ]
  },
  {
   "cell_type": "markdown",
   "id": "dba10c5f",
   "metadata": {},
   "source": [
    "Transposing is a common operation in linear algebra where the column and row\n",
    "indices of each element are swapped."
   ]
  },
  {
   "cell_type": "code",
   "execution_count": 67,
   "id": "c11d6be1",
   "metadata": {},
   "outputs": [
    {
     "data": {
      "text/plain": [
       "array([1, 2, 3, 4, 5, 6, 7, 8, 9])"
      ]
     },
     "execution_count": 67,
     "metadata": {},
     "output_type": "execute_result"
    }
   ],
   "source": [
    "np.array([1,2,3,4,5,6,7,8,9])"
   ]
  },
  {
   "cell_type": "code",
   "execution_count": 68,
   "id": "1a62671e",
   "metadata": {},
   "outputs": [
    {
     "data": {
      "text/plain": [
       "array([1, 2, 3, 4, 5, 6, 7, 8, 9])"
      ]
     },
     "execution_count": 68,
     "metadata": {},
     "output_type": "execute_result"
    }
   ],
   "source": [
    "np.array([1,2,3,4,5,6,7,8,9]).T"
   ]
  },
  {
   "cell_type": "code",
   "execution_count": 69,
   "id": "210c4213",
   "metadata": {},
   "outputs": [
    {
     "data": {
      "text/plain": [
       "array([[1, 2, 3, 4, 5, 6]])"
      ]
     },
     "execution_count": 69,
     "metadata": {},
     "output_type": "execute_result"
    }
   ],
   "source": [
    "# Tranpose row vector\n",
    "np.array([[1, 2, 3, 4, 5, 6]])"
   ]
  },
  {
   "cell_type": "code",
   "execution_count": 71,
   "id": "7d7d298e",
   "metadata": {},
   "outputs": [
    {
     "data": {
      "text/plain": [
       "array([[1],\n",
       "       [2],\n",
       "       [3],\n",
       "       [4],\n",
       "       [5],\n",
       "       [6]])"
      ]
     },
     "execution_count": 71,
     "metadata": {},
     "output_type": "execute_result"
    }
   ],
   "source": [
    "np.array([[1, 2, 3, 4, 5, 6]]).T"
   ]
  },
  {
   "cell_type": "markdown",
   "id": "100ad5a0",
   "metadata": {},
   "source": [
    "## Flattening a Matrix"
   ]
  },
  {
   "cell_type": "markdown",
   "id": "925538f1",
   "metadata": {},
   "source": [
    "You need to transform a matrix into a one-dimensional array.\n"
   ]
  },
  {
   "cell_type": "code",
   "execution_count": 73,
   "id": "a32d1e2c",
   "metadata": {},
   "outputs": [],
   "source": [
    "# Create matrix\n",
    "matrix = np.array([[1, 2, 3],\n",
    "                    [4, 5, 6],\n",
    "                    [7, 8, 9]])"
   ]
  },
  {
   "cell_type": "code",
   "execution_count": 74,
   "id": "d80864e6",
   "metadata": {},
   "outputs": [
    {
     "data": {
      "text/plain": [
       "array([1, 2, 3, 4, 5, 6, 7, 8, 9])"
      ]
     },
     "execution_count": 74,
     "metadata": {},
     "output_type": "execute_result"
    }
   ],
   "source": [
    "# Flatten matrix\n",
    "matrix.flatten()"
   ]
  },
  {
   "cell_type": "markdown",
   "id": "66fa76cb",
   "metadata": {},
   "source": [
    "flatten is a simple method to transform a matrix into a one-dimensional array.\n"
   ]
  },
  {
   "cell_type": "code",
   "execution_count": null,
   "id": "aab67f69",
   "metadata": {},
   "outputs": [],
   "source": []
  },
  {
   "cell_type": "code",
   "execution_count": null,
   "id": "606b224c",
   "metadata": {},
   "outputs": [],
   "source": []
  },
  {
   "cell_type": "code",
   "execution_count": null,
   "id": "b9c629ef",
   "metadata": {},
   "outputs": [],
   "source": []
  },
  {
   "cell_type": "markdown",
   "id": "5c2d12c6",
   "metadata": {},
   "source": [
    "## Getting the Diagonal of a Matrix"
   ]
  },
  {
   "cell_type": "markdown",
   "id": "74f0fe22",
   "metadata": {},
   "source": [
    "You need to get the diagonal elements of a matrix.\n"
   ]
  },
  {
   "cell_type": "code",
   "execution_count": 75,
   "id": "36c1a42f",
   "metadata": {},
   "outputs": [],
   "source": [
    "# Create matrix\n",
    "matrix = np.array([[1, 2, 3],\n",
    "                   [2, 4, 6],\n",
    "                   [3, 8, 9]])"
   ]
  },
  {
   "cell_type": "code",
   "execution_count": 76,
   "id": "b4ed99ee",
   "metadata": {},
   "outputs": [
    {
     "data": {
      "text/plain": [
       "array([1, 4, 9])"
      ]
     },
     "execution_count": 76,
     "metadata": {},
     "output_type": "execute_result"
    }
   ],
   "source": [
    "# Return diagonal elements\n",
    "matrix.diagonal()"
   ]
  },
  {
   "cell_type": "code",
   "execution_count": null,
   "id": "0afe416b",
   "metadata": {},
   "outputs": [],
   "source": []
  },
  {
   "cell_type": "markdown",
   "id": "ff9d128d",
   "metadata": {},
   "source": [
    "## Calculating the Trace of a Matrix"
   ]
  },
  {
   "cell_type": "markdown",
   "id": "1923f3be",
   "metadata": {},
   "source": [
    "You need to calculate the trace of a matrix."
   ]
  },
  {
   "cell_type": "code",
   "execution_count": 77,
   "id": "c9fcfb54",
   "metadata": {},
   "outputs": [],
   "source": [
    "# Create matrix\n",
    "matrix = np.array([[1, 2, 3],\n",
    "                   [2, 4, 6],\n",
    "                   [3, 8, 9]])"
   ]
  },
  {
   "cell_type": "code",
   "execution_count": 78,
   "id": "d52d3edf",
   "metadata": {},
   "outputs": [
    {
     "data": {
      "text/plain": [
       "array([1, 4, 9])"
      ]
     },
     "execution_count": 78,
     "metadata": {},
     "output_type": "execute_result"
    }
   ],
   "source": [
    "matrix.diagonal()"
   ]
  },
  {
   "cell_type": "code",
   "execution_count": 79,
   "id": "8b39781c",
   "metadata": {},
   "outputs": [
    {
     "data": {
      "text/plain": [
       "14"
      ]
     },
     "execution_count": 79,
     "metadata": {},
     "output_type": "execute_result"
    }
   ],
   "source": [
    "matrix.trace()"
   ]
  },
  {
   "cell_type": "markdown",
   "id": "4fc35e4f",
   "metadata": {},
   "source": [
    "The trace of a matrix is the sum of the diagonal elements and is often used under the\n",
    "hood in machine learning methods"
   ]
  },
  {
   "cell_type": "code",
   "execution_count": null,
   "id": "72ce7656",
   "metadata": {},
   "outputs": [],
   "source": []
  },
  {
   "cell_type": "code",
   "execution_count": null,
   "id": "40784248",
   "metadata": {},
   "outputs": [],
   "source": []
  },
  {
   "cell_type": "markdown",
   "id": "bb6facd4",
   "metadata": {},
   "source": [
    "##  Calculating Dot Products"
   ]
  },
  {
   "cell_type": "markdown",
   "id": "8677cc4b",
   "metadata": {},
   "source": [
    "You need to calculate the dot product of two vectors.\n"
   ]
  },
  {
   "cell_type": "markdown",
   "id": "4ea64f0a",
   "metadata": {},
   "source": [
    "The dot product of two vectors, a and b, is defined as:\n"
   ]
  },
  {
   "attachments": {
    "Screenshot%202022-05-10%20111604.png": {
     "image/png": "[encoded data removed]"
    }
   },
   "cell_type": "markdown",
   "id": "993e581f",
   "metadata": {},
   "source": [
    "![Screenshot%202022-05-10%20111604.png](attachment:Screenshot%202022-05-10%20111604.png)"
   ]
  },
  {
   "cell_type": "markdown",
   "id": "a4ea4947",
   "metadata": {},
   "source": [
    "where ai is the ith element of vector a"
   ]
  },
  {
   "cell_type": "code",
   "execution_count": 81,
   "id": "044f89c5",
   "metadata": {},
   "outputs": [],
   "source": [
    "# Create two vectors\n",
    "vector_a = np.array([1,2,3])\n",
    "vector_b = np.array([4,5,6])\n",
    "# 4 , 10 , 18 "
   ]
  },
  {
   "cell_type": "code",
   "execution_count": 83,
   "id": "24879631",
   "metadata": {},
   "outputs": [
    {
     "data": {
      "text/plain": [
       "32"
      ]
     },
     "execution_count": 83,
     "metadata": {},
     "output_type": "execute_result"
    }
   ],
   "source": [
    "# Calculate dot product\n",
    "np.dot(vector_a , vector_b)"
   ]
  },
  {
   "cell_type": "code",
   "execution_count": null,
   "id": "62e09beb",
   "metadata": {},
   "outputs": [],
   "source": []
  },
  {
   "cell_type": "code",
   "execution_count": null,
   "id": "5eadc01c",
   "metadata": {},
   "outputs": [],
   "source": []
  },
  {
   "cell_type": "markdown",
   "id": "9d5ddc47",
   "metadata": {},
   "source": [
    "## Adding and Subtracting Matrices"
   ]
  },
  {
   "cell_type": "code",
   "execution_count": 84,
   "id": "0319c27d",
   "metadata": {},
   "outputs": [],
   "source": [
    "# Create matrix\n",
    "matrix_a = np.array([[1, 1, 1],\n",
    "                     [1, 1, 1],\n",
    "                     [1, 1, 2]])\n",
    "# Create matrix\n",
    "matrix_b = np.array([[1, 3, 1],\n",
    "                     [1, 3, 1],\n",
    "                     [1, 3, 8]])"
   ]
  },
  {
   "cell_type": "code",
   "execution_count": 95,
   "id": "9be09b2b",
   "metadata": {},
   "outputs": [
    {
     "data": {
      "text/plain": [
       "array([[ 2,  4,  2],\n",
       "       [ 2,  4,  2],\n",
       "       [ 2,  4, 10]])"
      ]
     },
     "execution_count": 95,
     "metadata": {},
     "output_type": "execute_result"
    }
   ],
   "source": [
    "# Add two matrices\n",
    "np.add(matrix_a , matrix_b)"
   ]
  },
  {
   "cell_type": "code",
   "execution_count": 96,
   "id": "162feabe",
   "metadata": {},
   "outputs": [
    {
     "data": {
      "text/plain": [
       "array([[ 0, -2,  0],\n",
       "       [ 0, -2,  0],\n",
       "       [ 0, -2, -6]])"
      ]
     },
     "execution_count": 96,
     "metadata": {},
     "output_type": "execute_result"
    }
   ],
   "source": [
    "# Subtract two matrices\n",
    "np.subtract(matrix_a,matrix_b)"
   ]
  },
  {
   "cell_type": "markdown",
   "id": "ecfb7fcd",
   "metadata": {},
   "source": [
    "##  Multiplying Matrices"
   ]
  },
  {
   "cell_type": "code",
   "execution_count": null,
   "id": "754d33f5",
   "metadata": {},
   "outputs": [],
   "source": []
  },
  {
   "cell_type": "code",
   "execution_count": 85,
   "id": "a1ade018",
   "metadata": {},
   "outputs": [],
   "source": [
    "# Create matrix\n",
    "matrix_a = np.array([[1, 1],\n",
    "                     [1, 2]])\n",
    "# Create matrix\n",
    "matrix_b = np.array([[1, 3],\n",
    "                     [1, 2]])"
   ]
  },
  {
   "cell_type": "code",
   "execution_count": 86,
   "id": "f4919760",
   "metadata": {},
   "outputs": [
    {
     "data": {
      "text/plain": [
       "array([[1, 3],\n",
       "       [1, 4]])"
      ]
     },
     "execution_count": 86,
     "metadata": {},
     "output_type": "execute_result"
    }
   ],
   "source": [
    "# multiply two matrices\n",
    "np.multiply(matrix_a,matrix_b)"
   ]
  },
  {
   "cell_type": "code",
   "execution_count": null,
   "id": "d35eaad9",
   "metadata": {},
   "outputs": [],
   "source": []
  },
  {
   "cell_type": "markdown",
   "id": "32e9afbc",
   "metadata": {},
   "source": [
    "##  Generating Random Values"
   ]
  },
  {
   "cell_type": "code",
   "execution_count": 90,
   "id": "4780a415",
   "metadata": {},
   "outputs": [
    {
     "data": {
      "text/plain": [
       "array([0.16814983, 0.59336185, 0.45689503, 0.29895674, 0.18110666,\n",
       "       0.40131859, 0.76504536, 0.76424515, 0.85794666, 0.2498827 ,\n",
       "       0.81797806, 0.38031366, 0.87026203, 0.81710587, 0.6910771 ,\n",
       "       0.70546934, 0.17367953, 0.65021917, 0.76400826, 0.86353116,\n",
       "       0.77045609, 0.46202755, 0.06832938, 0.96451596, 0.38202906,\n",
       "       0.02748233, 0.72403294, 0.73171755, 0.88652531, 0.48912877,\n",
       "       0.94255165, 0.02899613, 0.39418374, 0.81778373, 0.17330531,\n",
       "       0.82968509, 0.04215763, 0.66775852, 0.8554152 , 0.78664777,\n",
       "       0.53353604, 0.29449728, 0.55698947, 0.2993008 , 0.7009801 ,\n",
       "       0.08179918, 0.11206374, 0.6712594 , 0.6912913 , 0.45630827])"
      ]
     },
     "execution_count": 90,
     "metadata": {},
     "output_type": "execute_result"
    }
   ],
   "source": [
    "# Generate ten random floats between 0.0 and 1.0\n",
    "np.random.random(50)"
   ]
  },
  {
   "cell_type": "code",
   "execution_count": 94,
   "id": "7660831b",
   "metadata": {},
   "outputs": [
    {
     "data": {
      "text/plain": [
       "array([25, 54, 36, 51, 93, 80,  5, 42, 41, 17, 47, 96, 97, 87, 49, 82, 49,\n",
       "       33, 53, 20, 34, 51, 27, 26,  6, 36, 58, 46, 30, 83, 39, 72,  6, 26,\n",
       "       33, 28, 33, 42, 20, 63, 31, 73, 13, 83,  8, 69, 34, 91, 27, 21])"
      ]
     },
     "execution_count": 94,
     "metadata": {},
     "output_type": "execute_result"
    }
   ],
   "source": [
    "# Generate ten random integers between 0 and 20\n",
    "np.random.randint(0,100,50)"
   ]
  },
  {
   "cell_type": "code",
   "execution_count": 96,
   "id": "b817ed13",
   "metadata": {},
   "outputs": [
    {
     "data": {
      "text/plain": [
       "array([ 63.13658894, 146.54668608, 138.93459015, 120.19955011,\n",
       "        99.87423987,  93.52342259, 132.5702752 ,  59.07587022,\n",
       "        54.75093485,  74.72395608,  77.0451207 ,  84.29346539,\n",
       "        95.87599376,  69.14495665, 134.57516962, 112.5077331 ,\n",
       "        98.49282635,  64.33467468,  66.47936926,  62.46220559,\n",
       "       130.49199729, 144.64498569, 107.5295697 ,  82.47627763,\n",
       "       128.10323335, 120.08345547,  81.94147718, 146.91234951,\n",
       "        94.23232767,  59.73834564,  83.47368212, 139.63469008,\n",
       "        80.50068779,  63.18119692, 146.55876568,  79.24155886,\n",
       "        59.55031479, 144.25542449,  95.67828635,  50.88436748,\n",
       "       101.99174824,  57.43863471,  56.15652747, 143.03208036,\n",
       "       123.60372395, 139.03984797, 129.64753965,  68.45340364,\n",
       "        55.04487526,  67.88837379])"
      ]
     },
     "execution_count": 96,
     "metadata": {},
     "output_type": "execute_result"
    }
   ],
   "source": [
    "# Draw ten numbers greater than or equal to 1 and less than 5\n",
    "np.random.uniform(50,150,50)"
   ]
  },
  {
   "cell_type": "code",
   "execution_count": null,
   "id": "cd43e647",
   "metadata": {},
   "outputs": [],
   "source": []
  }
 ],
 "metadata": {
  "kernelspec": {
   "display_name": "Python 3 (ipykernel)",
   "language": "python",
   "name": "python3"
  },
  "language_info": {
   "codemirror_mode": {
    "name": "ipython",
    "version": 3
   },
   "file_extension": ".py",
   "mimetype": "text/x-python",
   "name": "python",
   "nbconvert_exporter": "python",
   "pygments_lexer": "ipython3",
   "version": "3.9.7"
  }
 },
 "nbformat": 4,
 "nbformat_minor": 5
}
